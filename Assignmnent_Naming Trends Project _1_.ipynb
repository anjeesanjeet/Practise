{
 "cells": [
  {
   "cell_type": "code",
   "execution_count": 2,
   "metadata": {},
   "outputs": [],
   "source": [
    "#import all the necessary libraries\n",
    "import pandas as pd\n",
    "import numpy as np\n",
    "import zipfile ### zipfile is used to extract the zip file \n",
    "%matplotlib inline"
   ]
  },
  {
   "cell_type": "code",
   "execution_count": 5,
   "metadata": {},
   "outputs": [
    {
     "data": {
      "text/plain": [
       "<zipfile.ZipFile filename='C:\\\\Users\\\\snjts\\\\naming trends capstone project\\\\names.zip' mode='r'>"
      ]
     },
     "execution_count": 5,
     "metadata": {},
     "output_type": "execute_result"
    }
   ],
   "source": [
    "#read the zipfolder\n",
    "zf = zipfile.ZipFile(r\"C:\\Users\\snjts\\naming trends capstone project\\names.zip\")\n",
    "zf\n"
   ]
  },
  {
   "cell_type": "code",
   "execution_count": 6,
   "metadata": {},
   "outputs": [],
   "source": [
    "#create an empty dataframe\n",
    "df1=pd.DataFrame()\n"
   ]
  },
  {
   "cell_type": "code",
   "execution_count": 7,
   "metadata": {},
   "outputs": [],
   "source": [
    "#retrieves the filenames from the zipfolder\n",
    "filename=zf.namelist() \n",
    "#remove those file names that are not necessary\n",
    "filename.remove(\"NationalReadMe.pdf\")\n",
    "\n",
    "#total number of filenames present in the list\n",
    "length=len(filename) \n",
    "\n",
    "#modifies the empty dataframe according to the datapresent in the first file\n",
    "df1=df1.append(pd.read_csv(zf.open(filename[0]),header=None)) \n",
    "\n",
    "#creates a column 'Year' and adds the year as present in the filename\n",
    "df1=df1.assign(Year=filename[0][3:7]) \n",
    "\n",
    "#add data from the remaining files in the zip folder\n",
    "#add the corressponding years to the data\n",
    "for i in range(1,length):\n",
    "    df1=df1.append(pd.read_csv(zf.open(filename[i]),header=None))\n",
    "    df1.loc[:,'Year'].fillna(filename[i][3:7],inplace=True) "
   ]
  },
  {
   "cell_type": "code",
   "execution_count": 8,
   "metadata": {},
   "outputs": [
    {
     "data": {
      "text/html": [
       "<div>\n",
       "<style scoped>\n",
       "    .dataframe tbody tr th:only-of-type {\n",
       "        vertical-align: middle;\n",
       "    }\n",
       "\n",
       "    .dataframe tbody tr th {\n",
       "        vertical-align: top;\n",
       "    }\n",
       "\n",
       "    .dataframe thead th {\n",
       "        text-align: right;\n",
       "    }\n",
       "</style>\n",
       "<table border=\"1\" class=\"dataframe\">\n",
       "  <thead>\n",
       "    <tr style=\"text-align: right;\">\n",
       "      <th></th>\n",
       "      <th>Names</th>\n",
       "      <th>Sex</th>\n",
       "      <th>Birth Counts</th>\n",
       "      <th>Year</th>\n",
       "    </tr>\n",
       "  </thead>\n",
       "  <tbody>\n",
       "    <tr>\n",
       "      <th>0</th>\n",
       "      <td>Mary</td>\n",
       "      <td>F</td>\n",
       "      <td>7065</td>\n",
       "      <td>1880</td>\n",
       "    </tr>\n",
       "    <tr>\n",
       "      <th>1</th>\n",
       "      <td>Anna</td>\n",
       "      <td>F</td>\n",
       "      <td>2604</td>\n",
       "      <td>1880</td>\n",
       "    </tr>\n",
       "    <tr>\n",
       "      <th>2</th>\n",
       "      <td>Emma</td>\n",
       "      <td>F</td>\n",
       "      <td>2003</td>\n",
       "      <td>1880</td>\n",
       "    </tr>\n",
       "    <tr>\n",
       "      <th>3</th>\n",
       "      <td>Elizabeth</td>\n",
       "      <td>F</td>\n",
       "      <td>1939</td>\n",
       "      <td>1880</td>\n",
       "    </tr>\n",
       "    <tr>\n",
       "      <th>4</th>\n",
       "      <td>Minnie</td>\n",
       "      <td>F</td>\n",
       "      <td>1746</td>\n",
       "      <td>1880</td>\n",
       "    </tr>\n",
       "    <tr>\n",
       "      <th>...</th>\n",
       "      <td>...</td>\n",
       "      <td>...</td>\n",
       "      <td>...</td>\n",
       "      <td>...</td>\n",
       "    </tr>\n",
       "    <tr>\n",
       "      <th>31949</th>\n",
       "      <td>Zyheem</td>\n",
       "      <td>M</td>\n",
       "      <td>5</td>\n",
       "      <td>2019</td>\n",
       "    </tr>\n",
       "    <tr>\n",
       "      <th>31950</th>\n",
       "      <td>Zykel</td>\n",
       "      <td>M</td>\n",
       "      <td>5</td>\n",
       "      <td>2019</td>\n",
       "    </tr>\n",
       "    <tr>\n",
       "      <th>31951</th>\n",
       "      <td>Zyking</td>\n",
       "      <td>M</td>\n",
       "      <td>5</td>\n",
       "      <td>2019</td>\n",
       "    </tr>\n",
       "    <tr>\n",
       "      <th>31952</th>\n",
       "      <td>Zyn</td>\n",
       "      <td>M</td>\n",
       "      <td>5</td>\n",
       "      <td>2019</td>\n",
       "    </tr>\n",
       "    <tr>\n",
       "      <th>31953</th>\n",
       "      <td>Zyran</td>\n",
       "      <td>M</td>\n",
       "      <td>5</td>\n",
       "      <td>2019</td>\n",
       "    </tr>\n",
       "  </tbody>\n",
       "</table>\n",
       "<p>1989401 rows × 4 columns</p>\n",
       "</div>"
      ],
      "text/plain": [
       "           Names Sex  Birth Counts  Year\n",
       "0           Mary   F          7065  1880\n",
       "1           Anna   F          2604  1880\n",
       "2           Emma   F          2003  1880\n",
       "3      Elizabeth   F          1939  1880\n",
       "4         Minnie   F          1746  1880\n",
       "...          ...  ..           ...   ...\n",
       "31949     Zyheem   M             5  2019\n",
       "31950      Zykel   M             5  2019\n",
       "31951     Zyking   M             5  2019\n",
       "31952        Zyn   M             5  2019\n",
       "31953      Zyran   M             5  2019\n",
       "\n",
       "[1989401 rows x 4 columns]"
      ]
     },
     "execution_count": 8,
     "metadata": {},
     "output_type": "execute_result"
    }
   ],
   "source": [
    "#rename the the columns and save it in a new dataframe\n",
    "Consolidated_names=df1 \n",
    "Consolidated_names.rename(columns={0:'Names',1:'Sex',2:'Birth Counts'},inplace=True)\n",
    "Consolidated_names"
   ]
  },
  {
   "cell_type": "code",
   "execution_count": 9,
   "metadata": {},
   "outputs": [
    {
     "data": {
      "text/plain": [
       "<matplotlib.axes._subplots.AxesSubplot at 0x27a80006730>"
      ]
     },
     "execution_count": 9,
     "metadata": {},
     "output_type": "execute_result"
    },
    {
     "data": {
      "image/png": "[encoded data removed]",
      "text/plain": [
       "<Figure size 432x288 with 1 Axes>"
      ]
     },
     "metadata": {
      "needs_background": "light"
     },
     "output_type": "display_data"
    }
   ],
   "source": [
    "#create a pivot table to analyse total births in a particular year for each sex\n",
    "a=Consolidated_names.pivot_table('Birth Counts',index='Year',columns='Sex',aggfunc=sum)\n",
    "a.plot(title=\"Yearwise Male and Female Births\")"
   ]
  },
  {
   "cell_type": "code",
   "execution_count": 10,
   "metadata": {},
   "outputs": [],
   "source": [
    "#define a function to retrieve top 100 data based on the birth count\n",
    "def get_top100(group):\n",
    "    return group.sort_values(by='Birth Counts',ascending=False)[:100]   \n"
   ]
  },
  {
   "cell_type": "code",
   "execution_count": 11,
   "metadata": {},
   "outputs": [
    {
     "data": {
      "text/html": [
       "<div>\n",
       "<style scoped>\n",
       "    .dataframe tbody tr th:only-of-type {\n",
       "        vertical-align: middle;\n",
       "    }\n",
       "\n",
       "    .dataframe tbody tr th {\n",
       "        vertical-align: top;\n",
       "    }\n",
       "\n",
       "    .dataframe thead th {\n",
       "        text-align: right;\n",
       "    }\n",
       "</style>\n",
       "<table border=\"1\" class=\"dataframe\">\n",
       "  <thead>\n",
       "    <tr style=\"text-align: right;\">\n",
       "      <th></th>\n",
       "      <th>Names</th>\n",
       "      <th>Sex</th>\n",
       "      <th>Birth Counts</th>\n",
       "      <th>Year</th>\n",
       "    </tr>\n",
       "  </thead>\n",
       "  <tbody>\n",
       "    <tr>\n",
       "      <th>6103</th>\n",
       "      <td>James</td>\n",
       "      <td>M</td>\n",
       "      <td>94766</td>\n",
       "      <td>1947</td>\n",
       "    </tr>\n",
       "    <tr>\n",
       "      <th>7014</th>\n",
       "      <td>Michael</td>\n",
       "      <td>M</td>\n",
       "      <td>92726</td>\n",
       "      <td>1957</td>\n",
       "    </tr>\n",
       "    <tr>\n",
       "      <th>6104</th>\n",
       "      <td>Robert</td>\n",
       "      <td>M</td>\n",
       "      <td>91645</td>\n",
       "      <td>1947</td>\n",
       "    </tr>\n",
       "    <tr>\n",
       "      <th>6886</th>\n",
       "      <td>Michael</td>\n",
       "      <td>M</td>\n",
       "      <td>90662</td>\n",
       "      <td>1956</td>\n",
       "    </tr>\n",
       "    <tr>\n",
       "      <th>7024</th>\n",
       "      <td>Michael</td>\n",
       "      <td>M</td>\n",
       "      <td>90531</td>\n",
       "      <td>1958</td>\n",
       "    </tr>\n",
       "    <tr>\n",
       "      <th>...</th>\n",
       "      <td>...</td>\n",
       "      <td>...</td>\n",
       "      <td>...</td>\n",
       "      <td>...</td>\n",
       "    </tr>\n",
       "    <tr>\n",
       "      <th>7667</th>\n",
       "      <td>James</td>\n",
       "      <td>M</td>\n",
       "      <td>71328</td>\n",
       "      <td>1963</td>\n",
       "    </tr>\n",
       "    <tr>\n",
       "      <th>5245</th>\n",
       "      <td>Robert</td>\n",
       "      <td>M</td>\n",
       "      <td>70849</td>\n",
       "      <td>1944</td>\n",
       "    </tr>\n",
       "    <tr>\n",
       "      <th>7590</th>\n",
       "      <td>Robert</td>\n",
       "      <td>M</td>\n",
       "      <td>70195</td>\n",
       "      <td>1962</td>\n",
       "    </tr>\n",
       "    <tr>\n",
       "      <th>7809</th>\n",
       "      <td>Robert</td>\n",
       "      <td>M</td>\n",
       "      <td>70011</td>\n",
       "      <td>1964</td>\n",
       "    </tr>\n",
       "    <tr>\n",
       "      <th>7668</th>\n",
       "      <td>Robert</td>\n",
       "      <td>M</td>\n",
       "      <td>70010</td>\n",
       "      <td>1963</td>\n",
       "    </tr>\n",
       "  </tbody>\n",
       "</table>\n",
       "<p>100 rows × 4 columns</p>\n",
       "</div>"
      ],
      "text/plain": [
       "        Names Sex  Birth Counts  Year\n",
       "6103    James   M         94766  1947\n",
       "7014  Michael   M         92726  1957\n",
       "6104   Robert   M         91645  1947\n",
       "6886  Michael   M         90662  1956\n",
       "7024  Michael   M         90531  1958\n",
       "...       ...  ..           ...   ...\n",
       "7667    James   M         71328  1963\n",
       "5245   Robert   M         70849  1944\n",
       "7590   Robert   M         70195  1962\n",
       "7809   Robert   M         70011  1964\n",
       "7668   Robert   M         70010  1963\n",
       "\n",
       "[100 rows x 4 columns]"
      ]
     },
     "execution_count": 11,
     "metadata": {},
     "output_type": "execute_result"
    }
   ],
   "source": [
    "#Retrieve the top 100 male birth counts\n",
    "Top100_Male_Names=get_top100(Consolidated_names[Consolidated_names[\"Sex\"]=='M'])\n",
    "Top100_Male_Names"
   ]
  },
  {
   "cell_type": "code",
   "execution_count": 12,
   "metadata": {},
   "outputs": [
    {
     "data": {
      "text/html": [
       "<div>\n",
       "<style scoped>\n",
       "    .dataframe tbody tr th:only-of-type {\n",
       "        vertical-align: middle;\n",
       "    }\n",
       "\n",
       "    .dataframe tbody tr th {\n",
       "        vertical-align: top;\n",
       "    }\n",
       "\n",
       "    .dataframe thead th {\n",
       "        text-align: right;\n",
       "    }\n",
       "</style>\n",
       "<table border=\"1\" class=\"dataframe\">\n",
       "  <thead>\n",
       "    <tr style=\"text-align: right;\">\n",
       "      <th></th>\n",
       "      <th>Names</th>\n",
       "      <th>Sex</th>\n",
       "      <th>Birth Counts</th>\n",
       "      <th>Year</th>\n",
       "    </tr>\n",
       "  </thead>\n",
       "  <tbody>\n",
       "    <tr>\n",
       "      <th>0</th>\n",
       "      <td>Linda</td>\n",
       "      <td>F</td>\n",
       "      <td>99690</td>\n",
       "      <td>1947</td>\n",
       "    </tr>\n",
       "    <tr>\n",
       "      <th>0</th>\n",
       "      <td>Linda</td>\n",
       "      <td>F</td>\n",
       "      <td>96213</td>\n",
       "      <td>1948</td>\n",
       "    </tr>\n",
       "    <tr>\n",
       "      <th>0</th>\n",
       "      <td>Linda</td>\n",
       "      <td>F</td>\n",
       "      <td>91019</td>\n",
       "      <td>1949</td>\n",
       "    </tr>\n",
       "    <tr>\n",
       "      <th>0</th>\n",
       "      <td>Linda</td>\n",
       "      <td>F</td>\n",
       "      <td>80433</td>\n",
       "      <td>1950</td>\n",
       "    </tr>\n",
       "    <tr>\n",
       "      <th>0</th>\n",
       "      <td>Mary</td>\n",
       "      <td>F</td>\n",
       "      <td>73985</td>\n",
       "      <td>1921</td>\n",
       "    </tr>\n",
       "    <tr>\n",
       "      <th>...</th>\n",
       "      <td>...</td>\n",
       "      <td>...</td>\n",
       "      <td>...</td>\n",
       "      <td>...</td>\n",
       "    </tr>\n",
       "    <tr>\n",
       "      <th>2</th>\n",
       "      <td>Linda</td>\n",
       "      <td>F</td>\n",
       "      <td>48072</td>\n",
       "      <td>1956</td>\n",
       "    </tr>\n",
       "    <tr>\n",
       "      <th>2</th>\n",
       "      <td>Patricia</td>\n",
       "      <td>F</td>\n",
       "      <td>47944</td>\n",
       "      <td>1950</td>\n",
       "    </tr>\n",
       "    <tr>\n",
       "      <th>0</th>\n",
       "      <td>Jessica</td>\n",
       "      <td>F</td>\n",
       "      <td>47887</td>\n",
       "      <td>1989</td>\n",
       "    </tr>\n",
       "    <tr>\n",
       "      <th>3</th>\n",
       "      <td>Deborah</td>\n",
       "      <td>F</td>\n",
       "      <td>47832</td>\n",
       "      <td>1956</td>\n",
       "    </tr>\n",
       "    <tr>\n",
       "      <th>0</th>\n",
       "      <td>Mary</td>\n",
       "      <td>F</td>\n",
       "      <td>47680</td>\n",
       "      <td>1961</td>\n",
       "    </tr>\n",
       "  </tbody>\n",
       "</table>\n",
       "<p>100 rows × 4 columns</p>\n",
       "</div>"
      ],
      "text/plain": [
       "       Names Sex  Birth Counts  Year\n",
       "0      Linda   F         99690  1947\n",
       "0      Linda   F         96213  1948\n",
       "0      Linda   F         91019  1949\n",
       "0      Linda   F         80433  1950\n",
       "0       Mary   F         73985  1921\n",
       "..       ...  ..           ...   ...\n",
       "2      Linda   F         48072  1956\n",
       "2   Patricia   F         47944  1950\n",
       "0    Jessica   F         47887  1989\n",
       "3    Deborah   F         47832  1956\n",
       "0       Mary   F         47680  1961\n",
       "\n",
       "[100 rows x 4 columns]"
      ]
     },
     "execution_count": 12,
     "metadata": {},
     "output_type": "execute_result"
    }
   ],
   "source": [
    "#Retrieve the top 100 female birth counts\n",
    "Top100_Female_Names=get_top100(Consolidated_names[Consolidated_names[\"Sex\"]=='F'])\n",
    "Top100_Female_Names"
   ]
  },
  {
   "cell_type": "code",
   "execution_count": 13,
   "metadata": {},
   "outputs": [
    {
     "name": "stdout",
     "output_type": "stream",
     "text": [
      "The 5 most popular male names over the years:\n",
      "      Names  Birth Counts\n",
      "1    James       1879792\n",
      "3  Michael       1839629\n",
      "4   Robert       1748428\n",
      "2     John       1596518\n",
      "0    David       1049768\n"
     ]
    }
   ],
   "source": [
    "Most_popular_Male_names=Top100_Male_Names.groupby(['Names']).sum().reset_index() \n",
    "print(\"The 5 most popular male names over the years:\\n\", Most_popular_Male_names.sort_values('Birth Counts',ascending=False).head())"
   ]
  },
  {
   "cell_type": "code",
   "execution_count": 14,
   "metadata": {},
   "outputs": [
    {
     "name": "stdout",
     "output_type": "stream",
     "text": [
      "The 5 most popular female names over the years:\n",
      "       Names  Birth Counts\n",
      "8      Mary       2956630\n",
      "4  Jennifer        813063\n",
      "6     Linda        777148\n",
      "7      Lisa        329466\n",
      "9  Patricia        308932\n"
     ]
    }
   ],
   "source": [
    "Most_popular_Female_names=Top100_Female_Names.groupby(['Names']).sum().reset_index() \n",
    "print(\"The 5 most popular female names over the years:\\n\", Most_popular_Female_names.sort_values('Birth Counts',ascending=False).head())"
   ]
  },
  {
   "cell_type": "code",
   "execution_count": null,
   "metadata": {},
   "outputs": [],
   "source": []
  },
  {
   "cell_type": "code",
   "execution_count": null,
   "metadata": {},
   "outputs": [],
   "source": []
  }
 ],
 "metadata": {
  "kernelspec": {
   "display_name": "Python 3",
   "language": "python",
   "name": "python3"
  },
  "language_info": {
   "codemirror_mode": {
    "name": "ipython",
    "version": 3
   },
   "file_extension": ".py",
   "mimetype": "text/x-python",
   "name": "python",
   "nbconvert_exporter": "python",
   "pygments_lexer": "ipython3",
   "version": "3.8.3"
  }
 },
 "nbformat": 4,
 "nbformat_minor": 2
}
