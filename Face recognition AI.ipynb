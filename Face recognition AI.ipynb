{
 "cells": [
  {
   "cell_type": "code",
   "execution_count": 14,
   "metadata": {},
   "outputs": [],
   "source": [
    "import cv2"
   ]
  },
  {
   "cell_type": "code",
   "execution_count": 15,
   "metadata": {},
   "outputs": [
    {
     "data": {
      "text/plain": [
       "<CascadeClassifier 000001D32F144670>"
      ]
     },
     "execution_count": 15,
     "metadata": {},
     "output_type": "execute_result"
    }
   ],
   "source": [
    "face= cv2.CascadeClassifier(\"haarcascade_frontalface_default.xml\")\n",
    "face"
   ]
  },
  {
   "cell_type": "code",
   "execution_count": 22,
   "metadata": {},
   "outputs": [
    {
     "data": {
      "text/plain": [
       "array([[[105, 117, 123],\n",
       "        [106, 118, 124],\n",
       "        [107, 119, 125],\n",
       "        ...,\n",
       "        [138, 150, 154],\n",
       "        [135, 147, 151],\n",
       "        [130, 142, 146]],\n",
       "\n",
       "       [[104, 116, 122],\n",
       "        [102, 114, 120],\n",
       "        [101, 113, 119],\n",
       "        ...,\n",
       "        [139, 151, 155],\n",
       "        [137, 149, 153],\n",
       "        [133, 145, 149]],\n",
       "\n",
       "       [[106, 118, 122],\n",
       "        [102, 114, 118],\n",
       "        [ 97, 109, 113],\n",
       "        ...,\n",
       "        [141, 153, 157],\n",
       "        [140, 152, 156],\n",
       "        [137, 149, 153]],\n",
       "\n",
       "       ...,\n",
       "\n",
       "       [[147, 156, 160],\n",
       "        [145, 154, 158],\n",
       "        [144, 153, 157],\n",
       "        ...,\n",
       "        [121, 134, 142],\n",
       "        [123, 136, 144],\n",
       "        [126, 139, 147]],\n",
       "\n",
       "       [[147, 156, 160],\n",
       "        [146, 155, 159],\n",
       "        [145, 154, 158],\n",
       "        ...,\n",
       "        [127, 140, 148],\n",
       "        [127, 140, 148],\n",
       "        [127, 140, 148]],\n",
       "\n",
       "       [[150, 159, 163],\n",
       "        [149, 158, 162],\n",
       "        [148, 157, 161],\n",
       "        ...,\n",
       "        [130, 143, 151],\n",
       "        [130, 143, 151],\n",
       "        [130, 143, 151]]], dtype=uint8)"
      ]
     },
     "execution_count": 22,
     "metadata": {},
     "output_type": "execute_result"
    }
   ],
   "source": [
    "img= cv2.imread(\"test1.jpg\")\n",
    "img"
   ]
  },
  {
   "cell_type": "code",
   "execution_count": 17,
   "metadata": {},
   "outputs": [],
   "source": [
    "detector= face.detectMultiScale(img, 1.1, 4)"
   ]
  },
  {
   "cell_type": "code",
   "execution_count": 20,
   "metadata": {},
   "outputs": [],
   "source": [
    "for (x,y,w,h) in detector:\n",
    "    cv2. rectangle(img, (x,y), (x+w, y+h), (0, 255, 0), 2) "
   ]
  },
  {
   "cell_type": "code",
   "execution_count": 21,
   "metadata": {},
   "outputs": [
    {
     "name": "stdout",
     "output_type": "stream",
     "text": [
      "Designed by Sanjeet\n"
     ]
    }
   ],
   "source": [
    "cv2.imwrite(\"face detected.png\", img)\n",
    "print(\"Designed by Sanjeet\")"
   ]
  },
  {
   "cell_type": "code",
   "execution_count": null,
   "metadata": {},
   "outputs": [],
   "source": []
  }
 ],
 "metadata": {
  "kernelspec": {
   "display_name": "Python 3",
   "language": "python",
   "name": "python3"
  },
  "language_info": {
   "codemirror_mode": {
    "name": "ipython",
    "version": 3
   },
   "file_extension": ".py",
   "mimetype": "text/x-python",
   "name": "python",
   "nbconvert_exporter": "python",
   "pygments_lexer": "ipython3",
   "version": "3.8.3"
  }
 },
 "nbformat": 4,
 "nbformat_minor": 4
}
