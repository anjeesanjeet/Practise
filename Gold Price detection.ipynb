{
 "cells": [
  {
   "cell_type": "markdown",
   "id": "183a44db",
   "metadata": {},
   "source": [
    "Loading Dependencies"
   ]
  },
  {
   "cell_type": "code",
   "execution_count": 21,
   "id": "cba3223d",
   "metadata": {},
   "outputs": [],
   "source": [
    "import numpy as np\n",
    "import pandas as pd\n",
    "import matplotlib.pyplot as plt\n",
    "import seaborn as sns\n",
    "from sklearn.model_selection import train_test_split\n",
    "from sklearn.ensemble import RandomForestRegressor\n",
    "from sklearn import metrics "
   ]
  },
  {
   "cell_type": "markdown",
   "id": "dd526c2b",
   "metadata": {},
   "source": [
    "Loading dataset"
   ]
  },
  {
   "cell_type": "code",
   "execution_count": 22,
   "id": "f7b5026d",
   "metadata": {},
   "outputs": [
    {
     "data": {
      "text/html": [
       "<div>\n",
       "<style scoped>\n",
       "    .dataframe tbody tr th:only-of-type {\n",
       "        vertical-align: middle;\n",
       "    }\n",
       "\n",
       "    .dataframe tbody tr th {\n",
       "        vertical-align: top;\n",
       "    }\n",
       "\n",
       "    .dataframe thead th {\n",
       "        text-align: right;\n",
       "    }\n",
       "</style>\n",
       "<table border=\"1\" class=\"dataframe\">\n",
       "  <thead>\n",
       "    <tr style=\"text-align: right;\">\n",
       "      <th></th>\n",
       "      <th>Date</th>\n",
       "      <th>SPX</th>\n",
       "      <th>GLD</th>\n",
       "      <th>USO</th>\n",
       "      <th>SLV</th>\n",
       "      <th>EUR/USD</th>\n",
       "    </tr>\n",
       "  </thead>\n",
       "  <tbody>\n",
       "    <tr>\n",
       "      <th>0</th>\n",
       "      <td>1/2/2008</td>\n",
       "      <td>1447.160034</td>\n",
       "      <td>84.860001</td>\n",
       "      <td>78.470001</td>\n",
       "      <td>15.180</td>\n",
       "      <td>1.471692</td>\n",
       "    </tr>\n",
       "    <tr>\n",
       "      <th>1</th>\n",
       "      <td>1/3/2008</td>\n",
       "      <td>1447.160034</td>\n",
       "      <td>85.570000</td>\n",
       "      <td>78.370003</td>\n",
       "      <td>15.285</td>\n",
       "      <td>1.474491</td>\n",
       "    </tr>\n",
       "    <tr>\n",
       "      <th>2</th>\n",
       "      <td>1/4/2008</td>\n",
       "      <td>1411.630005</td>\n",
       "      <td>85.129997</td>\n",
       "      <td>77.309998</td>\n",
       "      <td>15.167</td>\n",
       "      <td>1.475492</td>\n",
       "    </tr>\n",
       "    <tr>\n",
       "      <th>3</th>\n",
       "      <td>1/7/2008</td>\n",
       "      <td>1416.180054</td>\n",
       "      <td>84.769997</td>\n",
       "      <td>75.500000</td>\n",
       "      <td>15.053</td>\n",
       "      <td>1.468299</td>\n",
       "    </tr>\n",
       "    <tr>\n",
       "      <th>4</th>\n",
       "      <td>1/8/2008</td>\n",
       "      <td>1390.189941</td>\n",
       "      <td>86.779999</td>\n",
       "      <td>76.059998</td>\n",
       "      <td>15.590</td>\n",
       "      <td>1.557099</td>\n",
       "    </tr>\n",
       "  </tbody>\n",
       "</table>\n",
       "</div>"
      ],
      "text/plain": [
       "       Date          SPX        GLD        USO     SLV   EUR/USD\n",
       "0  1/2/2008  1447.160034  84.860001  78.470001  15.180  1.471692\n",
       "1  1/3/2008  1447.160034  85.570000  78.370003  15.285  1.474491\n",
       "2  1/4/2008  1411.630005  85.129997  77.309998  15.167  1.475492\n",
       "3  1/7/2008  1416.180054  84.769997  75.500000  15.053  1.468299\n",
       "4  1/8/2008  1390.189941  86.779999  76.059998  15.590  1.557099"
      ]
     },
     "execution_count": 22,
     "metadata": {},
     "output_type": "execute_result"
    }
   ],
   "source": [
    "data= pd.read_csv(\"gold_price data.csv\")\n",
    "data.head()"
   ]
  },
  {
   "cell_type": "code",
   "execution_count": 23,
   "id": "77f12985",
   "metadata": {},
   "outputs": [
    {
     "data": {
      "text/plain": [
       "(2290, 6)"
      ]
     },
     "execution_count": 23,
     "metadata": {},
     "output_type": "execute_result"
    }
   ],
   "source": [
    "data.shape"
   ]
  },
  {
   "cell_type": "markdown",
   "id": "3628d37b",
   "metadata": {},
   "source": [
    "Getting some basic information about the data"
   ]
  },
  {
   "cell_type": "code",
   "execution_count": 24,
   "id": "54d00818",
   "metadata": {},
   "outputs": [
    {
     "name": "stdout",
     "output_type": "stream",
     "text": [
      "<class 'pandas.core.frame.DataFrame'>\n",
      "RangeIndex: 2290 entries, 0 to 2289\n",
      "Data columns (total 6 columns):\n",
      " #   Column   Non-Null Count  Dtype  \n",
      "---  ------   --------------  -----  \n",
      " 0   Date     2290 non-null   object \n",
      " 1   SPX      2290 non-null   float64\n",
      " 2   GLD      2290 non-null   float64\n",
      " 3   USO      2290 non-null   float64\n",
      " 4   SLV      2290 non-null   float64\n",
      " 5   EUR/USD  2290 non-null   float64\n",
      "dtypes: float64(5), object(1)\n",
      "memory usage: 107.5+ KB\n"
     ]
    }
   ],
   "source": [
    "data.info()"
   ]
  },
  {
   "cell_type": "markdown",
   "id": "21d9269f",
   "metadata": {},
   "source": [
    "Checking for missing data values"
   ]
  },
  {
   "cell_type": "code",
   "execution_count": 25,
   "id": "bc5e0835",
   "metadata": {},
   "outputs": [
    {
     "data": {
      "text/plain": [
       "Date       0\n",
       "SPX        0\n",
       "GLD        0\n",
       "USO        0\n",
       "SLV        0\n",
       "EUR/USD    0\n",
       "dtype: int64"
      ]
     },
     "execution_count": 25,
     "metadata": {},
     "output_type": "execute_result"
    }
   ],
   "source": [
    "data.isnull().sum()"
   ]
  },
  {
   "cell_type": "markdown",
   "id": "98ca8117",
   "metadata": {},
   "source": [
    "Getting the statistical measurs of the data"
   ]
  },
  {
   "cell_type": "code",
   "execution_count": 26,
   "id": "d78587e7",
   "metadata": {},
   "outputs": [
    {
     "data": {
      "text/html": [
       "<div>\n",
       "<style scoped>\n",
       "    .dataframe tbody tr th:only-of-type {\n",
       "        vertical-align: middle;\n",
       "    }\n",
       "\n",
       "    .dataframe tbody tr th {\n",
       "        vertical-align: top;\n",
       "    }\n",
       "\n",
       "    .dataframe thead th {\n",
       "        text-align: right;\n",
       "    }\n",
       "</style>\n",
       "<table border=\"1\" class=\"dataframe\">\n",
       "  <thead>\n",
       "    <tr style=\"text-align: right;\">\n",
       "      <th></th>\n",
       "      <th>SPX</th>\n",
       "      <th>GLD</th>\n",
       "      <th>USO</th>\n",
       "      <th>SLV</th>\n",
       "      <th>EUR/USD</th>\n",
       "    </tr>\n",
       "  </thead>\n",
       "  <tbody>\n",
       "    <tr>\n",
       "      <th>count</th>\n",
       "      <td>2290.000000</td>\n",
       "      <td>2290.000000</td>\n",
       "      <td>2290.000000</td>\n",
       "      <td>2290.000000</td>\n",
       "      <td>2290.000000</td>\n",
       "    </tr>\n",
       "    <tr>\n",
       "      <th>mean</th>\n",
       "      <td>1654.315776</td>\n",
       "      <td>122.732875</td>\n",
       "      <td>31.842221</td>\n",
       "      <td>20.084997</td>\n",
       "      <td>1.283653</td>\n",
       "    </tr>\n",
       "    <tr>\n",
       "      <th>std</th>\n",
       "      <td>519.111540</td>\n",
       "      <td>23.283346</td>\n",
       "      <td>19.523517</td>\n",
       "      <td>7.092566</td>\n",
       "      <td>0.131547</td>\n",
       "    </tr>\n",
       "    <tr>\n",
       "      <th>min</th>\n",
       "      <td>676.530029</td>\n",
       "      <td>70.000000</td>\n",
       "      <td>7.960000</td>\n",
       "      <td>8.850000</td>\n",
       "      <td>1.039047</td>\n",
       "    </tr>\n",
       "    <tr>\n",
       "      <th>25%</th>\n",
       "      <td>1239.874969</td>\n",
       "      <td>109.725000</td>\n",
       "      <td>14.380000</td>\n",
       "      <td>15.570000</td>\n",
       "      <td>1.171313</td>\n",
       "    </tr>\n",
       "    <tr>\n",
       "      <th>50%</th>\n",
       "      <td>1551.434998</td>\n",
       "      <td>120.580002</td>\n",
       "      <td>33.869999</td>\n",
       "      <td>17.268500</td>\n",
       "      <td>1.303297</td>\n",
       "    </tr>\n",
       "    <tr>\n",
       "      <th>75%</th>\n",
       "      <td>2073.010070</td>\n",
       "      <td>132.840004</td>\n",
       "      <td>37.827501</td>\n",
       "      <td>22.882500</td>\n",
       "      <td>1.369971</td>\n",
       "    </tr>\n",
       "    <tr>\n",
       "      <th>max</th>\n",
       "      <td>2872.870117</td>\n",
       "      <td>184.589996</td>\n",
       "      <td>117.480003</td>\n",
       "      <td>47.259998</td>\n",
       "      <td>1.598798</td>\n",
       "    </tr>\n",
       "  </tbody>\n",
       "</table>\n",
       "</div>"
      ],
      "text/plain": [
       "               SPX          GLD          USO          SLV      EUR/USD\n",
       "count  2290.000000  2290.000000  2290.000000  2290.000000  2290.000000\n",
       "mean   1654.315776   122.732875    31.842221    20.084997     1.283653\n",
       "std     519.111540    23.283346    19.523517     7.092566     0.131547\n",
       "min     676.530029    70.000000     7.960000     8.850000     1.039047\n",
       "25%    1239.874969   109.725000    14.380000    15.570000     1.171313\n",
       "50%    1551.434998   120.580002    33.869999    17.268500     1.303297\n",
       "75%    2073.010070   132.840004    37.827501    22.882500     1.369971\n",
       "max    2872.870117   184.589996   117.480003    47.259998     1.598798"
      ]
     },
     "execution_count": 26,
     "metadata": {},
     "output_type": "execute_result"
    }
   ],
   "source": [
    "data.describe()"
   ]
  },
  {
   "cell_type": "markdown",
   "id": "591cb0a0",
   "metadata": {},
   "source": [
    "Finding Correlation between data columns"
   ]
  },
  {
   "cell_type": "code",
   "execution_count": 27,
   "id": "43f0d3da",
   "metadata": {},
   "outputs": [
    {
     "data": {
      "text/html": [
       "<div>\n",
       "<style scoped>\n",
       "    .dataframe tbody tr th:only-of-type {\n",
       "        vertical-align: middle;\n",
       "    }\n",
       "\n",
       "    .dataframe tbody tr th {\n",
       "        vertical-align: top;\n",
       "    }\n",
       "\n",
       "    .dataframe thead th {\n",
       "        text-align: right;\n",
       "    }\n",
       "</style>\n",
       "<table border=\"1\" class=\"dataframe\">\n",
       "  <thead>\n",
       "    <tr style=\"text-align: right;\">\n",
       "      <th></th>\n",
       "      <th>SPX</th>\n",
       "      <th>GLD</th>\n",
       "      <th>USO</th>\n",
       "      <th>SLV</th>\n",
       "      <th>EUR/USD</th>\n",
       "    </tr>\n",
       "  </thead>\n",
       "  <tbody>\n",
       "    <tr>\n",
       "      <th>SPX</th>\n",
       "      <td>1.000000</td>\n",
       "      <td>0.049345</td>\n",
       "      <td>-0.591573</td>\n",
       "      <td>-0.274055</td>\n",
       "      <td>-0.672017</td>\n",
       "    </tr>\n",
       "    <tr>\n",
       "      <th>GLD</th>\n",
       "      <td>0.049345</td>\n",
       "      <td>1.000000</td>\n",
       "      <td>-0.186360</td>\n",
       "      <td>0.866632</td>\n",
       "      <td>-0.024375</td>\n",
       "    </tr>\n",
       "    <tr>\n",
       "      <th>USO</th>\n",
       "      <td>-0.591573</td>\n",
       "      <td>-0.186360</td>\n",
       "      <td>1.000000</td>\n",
       "      <td>0.167547</td>\n",
       "      <td>0.829317</td>\n",
       "    </tr>\n",
       "    <tr>\n",
       "      <th>SLV</th>\n",
       "      <td>-0.274055</td>\n",
       "      <td>0.866632</td>\n",
       "      <td>0.167547</td>\n",
       "      <td>1.000000</td>\n",
       "      <td>0.321631</td>\n",
       "    </tr>\n",
       "    <tr>\n",
       "      <th>EUR/USD</th>\n",
       "      <td>-0.672017</td>\n",
       "      <td>-0.024375</td>\n",
       "      <td>0.829317</td>\n",
       "      <td>0.321631</td>\n",
       "      <td>1.000000</td>\n",
       "    </tr>\n",
       "  </tbody>\n",
       "</table>\n",
       "</div>"
      ],
      "text/plain": [
       "              SPX       GLD       USO       SLV   EUR/USD\n",
       "SPX      1.000000  0.049345 -0.591573 -0.274055 -0.672017\n",
       "GLD      0.049345  1.000000 -0.186360  0.866632 -0.024375\n",
       "USO     -0.591573 -0.186360  1.000000  0.167547  0.829317\n",
       "SLV     -0.274055  0.866632  0.167547  1.000000  0.321631\n",
       "EUR/USD -0.672017 -0.024375  0.829317  0.321631  1.000000"
      ]
     },
     "execution_count": 27,
     "metadata": {},
     "output_type": "execute_result"
    }
   ],
   "source": [
    "data.corr()"
   ]
  },
  {
   "cell_type": "code",
   "execution_count": 28,
   "id": "0e6ad9d8",
   "metadata": {},
   "outputs": [],
   "source": [
    "correlations= data.corr()"
   ]
  },
  {
   "cell_type": "code",
   "execution_count": 29,
   "id": "8c08202c",
   "metadata": {},
   "outputs": [
    {
     "data": {
      "text/plain": [
       "<AxesSubplot:>"
      ]
     },
     "execution_count": 29,
     "metadata": {},
     "output_type": "execute_result"
    },
    {
     "data": {
      "image/png": "[encoded data removed]",
      "text/plain": [
       "<Figure size 720x720 with 2 Axes>"
      ]
     },
     "metadata": {
      "needs_background": "light"
     },
     "output_type": "display_data"
    }
   ],
   "source": [
    "plt.figure(figsize=(10,10))\n",
    "sns.heatmap(correlations, cbar= True, square= True, fmt='.0f', annot= True, annot_kws={'size':8}, cmap=\"Blues\")"
   ]
  },
  {
   "cell_type": "code",
   "execution_count": 30,
   "id": "5bdea0c4",
   "metadata": {},
   "outputs": [
    {
     "name": "stdout",
     "output_type": "stream",
     "text": [
      "SPX        0.049345\n",
      "GLD        1.000000\n",
      "USO       -0.186360\n",
      "SLV        0.866632\n",
      "EUR/USD   -0.024375\n",
      "Name: GLD, dtype: float64\n"
     ]
    }
   ],
   "source": [
    "#Correlation values of GLD\n",
    "print(correlations['GLD'])"
   ]
  },
  {
   "cell_type": "code",
   "execution_count": 31,
   "id": "650a6b00",
   "metadata": {},
   "outputs": [
    {
     "name": "stderr",
     "output_type": "stream",
     "text": [
      "C:\\Users\\snjts\\anaconda3\\lib\\site-packages\\seaborn\\distributions.py:2619: FutureWarning: `distplot` is a deprecated function and will be removed in a future version. Please adapt your code to use either `displot` (a figure-level function with similar flexibility) or `histplot` (an axes-level function for histograms).\n",
      "  warnings.warn(msg, FutureWarning)\n"
     ]
    },
    {
     "data": {
      "text/plain": [
       "<AxesSubplot:xlabel='GLD', ylabel='Density'>"
      ]
     },
     "execution_count": 31,
     "metadata": {},
     "output_type": "execute_result"
    },
    {
     "data": {
      "image/png": "[encoded data removed]",
      "text/plain": [
       "<Figure size 432x288 with 1 Axes>"
      ]
     },
     "metadata": {
      "needs_background": "light"
     },
     "output_type": "display_data"
    }
   ],
   "source": [
    "#Checking the distribution of GLD price\n",
    "sns.distplot(data['GLD'], color='green')"
   ]
  },
  {
   "cell_type": "markdown",
   "id": "22904819",
   "metadata": {},
   "source": [
    "Splitting the features and target"
   ]
  },
  {
   "cell_type": "code",
   "execution_count": 32,
   "id": "48f1d2d4",
   "metadata": {},
   "outputs": [],
   "source": [
    "X= data.drop(['Date','GLD'], axis=1)\n",
    "y= data['GLD']"
   ]
  },
  {
   "cell_type": "code",
   "execution_count": 33,
   "id": "5e931812",
   "metadata": {},
   "outputs": [
    {
     "name": "stdout",
     "output_type": "stream",
     "text": [
      "              SPX        USO      SLV   EUR/USD\n",
      "0     1447.160034  78.470001  15.1800  1.471692\n",
      "1     1447.160034  78.370003  15.2850  1.474491\n",
      "2     1411.630005  77.309998  15.1670  1.475492\n",
      "3     1416.180054  75.500000  15.0530  1.468299\n",
      "4     1390.189941  76.059998  15.5900  1.557099\n",
      "...           ...        ...      ...       ...\n",
      "2285  2671.919922  14.060000  15.5100  1.186789\n",
      "2286  2697.790039  14.370000  15.5300  1.184722\n",
      "2287  2723.070068  14.410000  15.7400  1.191753\n",
      "2288  2730.129883  14.380000  15.5600  1.193118\n",
      "2289  2725.780029  14.405800  15.4542  1.182033\n",
      "\n",
      "[2290 rows x 4 columns]\n",
      "0        84.860001\n",
      "1        85.570000\n",
      "2        85.129997\n",
      "3        84.769997\n",
      "4        86.779999\n",
      "           ...    \n",
      "2285    124.589996\n",
      "2286    124.330002\n",
      "2287    125.180000\n",
      "2288    124.489998\n",
      "2289    122.543800\n",
      "Name: GLD, Length: 2290, dtype: float64\n"
     ]
    }
   ],
   "source": [
    "print(X)\n",
    "\n",
    "print(y)"
   ]
  },
  {
   "cell_type": "markdown",
   "id": "7c6f60a0",
   "metadata": {},
   "source": [
    "Splitting into train dat and test data"
   ]
  },
  {
   "cell_type": "code",
   "execution_count": 34,
   "id": "1c043b0d",
   "metadata": {},
   "outputs": [],
   "source": [
    "X_train, X_test, y_train, y_test= train_test_split(X, y, test_size=0.2, random_state=2)"
   ]
  },
  {
   "cell_type": "code",
   "execution_count": 35,
   "id": "451e2a36",
   "metadata": {},
   "outputs": [
    {
     "name": "stdout",
     "output_type": "stream",
     "text": [
      "(2290, 4) (1832, 4) (458, 4)\n"
     ]
    }
   ],
   "source": [
    "print(X.shape, X_train.shape, X_test.shape)"
   ]
  },
  {
   "cell_type": "markdown",
   "id": "5c3ceb7b",
   "metadata": {},
   "source": [
    "Model Training: Random Forest Regressor  "
   ]
  },
  {
   "cell_type": "code",
   "execution_count": 36,
   "id": "a3a3ac7b",
   "metadata": {},
   "outputs": [],
   "source": [
    "regressor= RandomForestRegressor(n_estimators=100)"
   ]
  },
  {
   "cell_type": "code",
   "execution_count": 37,
   "id": "c2680eb6",
   "metadata": {},
   "outputs": [
    {
     "data": {
      "text/plain": [
       "RandomForestRegressor()"
      ]
     },
     "execution_count": 37,
     "metadata": {},
     "output_type": "execute_result"
    }
   ],
   "source": [
    "#Training the model\n",
    "regressor.fit(X_train, y_train)"
   ]
  },
  {
   "cell_type": "markdown",
   "id": "859af9b7",
   "metadata": {},
   "source": [
    "Model Evaluation"
   ]
  },
  {
   "cell_type": "code",
   "execution_count": 38,
   "id": "d414997f",
   "metadata": {},
   "outputs": [],
   "source": [
    "# Prediction on test data\n",
    "\n",
    "test_data_prediction= regressor.predict(X_test)"
   ]
  },
  {
   "cell_type": "code",
   "execution_count": 41,
   "id": "52f177bc",
   "metadata": {},
   "outputs": [
    {
     "name": "stdout",
     "output_type": "stream",
     "text": [
      "[168.37799913  81.99849995 115.83470014 127.78340091 120.68540156\n",
      " 154.7668977  150.40579847 126.17150009 117.38709873 125.93640068\n",
      " 117.02740088 170.51940048 141.80279851 167.60089857 115.17120007\n",
      " 117.92150034 139.47080275 170.0115009  159.43980323 159.12739949\n",
      " 155.15420022 125.34190029 176.14879953 157.37410311 125.21560048\n",
      "  93.83129946  78.00729999 120.23479995 119.0848992  167.50980095\n",
      "  88.06099985 125.29819996  91.23940077 117.84760005 121.0877993\n",
      " 136.2503011  115.51360156 115.3348007  149.13999987 107.35440087\n",
      " 104.3390025   87.22789796 126.57460082 117.79009989 152.47669969\n",
      " 119.49060012 108.30020003 108.22829893  93.19610069 127.11389802\n",
      "  74.98710049 113.6672994  121.2624003  111.41019913 118.80069888\n",
      " 120.6787991  158.90740016 167.43950133 147.00469694  86.01719857\n",
      "  94.23890069  86.7812989   90.63829987 119.11770063 126.47120042\n",
      " 127.49710004 169.43899917 122.25849906 117.40439921  98.73789994\n",
      " 167.7554016  142.90189826 132.02390272 121.08300212 120.84659959\n",
      " 119.75630023 114.58800154 118.27840062 107.137201   127.8390007\n",
      " 113.97789979 107.67090023 116.95430065 119.58719854  88.92150038\n",
      "  88.2553989  146.30070176 127.23370019 113.82320053 110.57229852\n",
      " 107.96689908  77.43279891 169.15800184 113.96649892 121.56269905\n",
      " 128.08680234 154.95609804  91.68819958 136.0083012  159.33470362\n",
      " 125.30900081 125.3055004  130.56320166 114.96560091 119.86749991\n",
      "  92.18299987 110.31799881 166.9408987  156.94249938 114.10009914\n",
      " 106.73870123  79.9088998  113.3953005  125.78020074 107.03529953\n",
      " 119.45680115 155.89800237 159.54109851 120.49229982 134.868303\n",
      " 101.45489997 117.45939792 119.36560034 113.0003007  102.75059904\n",
      " 160.30669786  98.93350022 146.08529992 125.75380112 169.82809925\n",
      " 125.38319957 127.32419779 127.37440133 113.74869956 112.77410066\n",
      " 123.68729945 102.32619913  89.2488     124.06849985 101.72329926\n",
      " 107.14599924 113.69600066 117.29930057  98.90809948 121.49860065\n",
      " 163.28199907  87.46869852 106.76829969 117.34620076 127.64880109\n",
      " 124.08880054  80.682499   120.2947008  158.87249772  88.02719948\n",
      " 110.27019971 118.83379933 171.54799887 103.01769891 105.59300053\n",
      " 122.57250015 159.24969722  87.54149842  93.2834004  112.90600034\n",
      " 177.07379948 114.84329934 119.34520033  94.5987006  125.64890022\n",
      " 166.11230036 114.7411005  116.80650152  88.27159888 148.88760085\n",
      " 120.35939932  89.79279959 111.80470027 117.27660044 118.8152011\n",
      "  88.3049996   93.84859965 117.40750006 118.66020163 120.15410004\n",
      " 126.79899823 121.87999982 149.62819958 164.63000031 118.47859964\n",
      " 120.40260156 151.32460101 118.46329912 171.81999837 105.81589931\n",
      " 105.0232013  149.39950087 113.91890104 124.88900123 147.74749924\n",
      " 119.70110118 115.27180048 112.37240032 113.41130183 140.75070118\n",
      " 118.08289755 102.94740045 115.94490111 103.49210165  98.55990013\n",
      " 117.20970037  90.5595003   91.60260025 153.48539866 102.76459968\n",
      " 154.61620047 114.23010139 138.66110155  90.14419826 115.5285994\n",
      " 114.33270003 123.18590042 121.87799977 165.32770184  92.85129931\n",
      " 135.73080094 121.28469955 120.68710089 104.5614002  141.51540302\n",
      " 121.58229914 116.70040046 113.45440098 126.95509836 122.36369974\n",
      " 125.78479991 121.21330057  86.87899921 132.39710128 144.01510259\n",
      "  92.71059936 159.14949958 158.88070241 126.2805994  164.93909955\n",
      " 108.8802995  110.10710097 103.73729866  94.28100061 127.99980323\n",
      " 107.07040092 161.71009985 121.61810051 132.25710047 130.65260137\n",
      " 160.69660034  90.1127985  175.47570133 127.71090081 126.71159864\n",
      "  86.34979926 124.38989966 150.57199731  89.83549978 106.82209988\n",
      " 108.97169989  84.78019916 135.76740028 154.54140256 137.78560395\n",
      "  74.26580028 151.70640083 125.8667002  126.73659999 127.52349913\n",
      " 108.577499   156.22300055 114.63970067 116.85930128 124.9571995\n",
      " 154.12110147 121.3738998  156.36249894  92.97340059 125.53840132\n",
      " 125.66240046  87.95700058  92.02759926 126.23499981 128.29600294\n",
      " 113.03010073 117.63239722 120.84360028 127.04059867 119.37120115\n",
      " 136.58680106  94.07419927 119.67620049 112.98990115  94.31989925\n",
      " 108.85269997  87.58759914 109.0515993   89.77659918  92.4777006\n",
      " 131.54280261 162.47730033  89.35020011 119.71720062 133.27110171\n",
      " 123.84440048 128.46620263 102.04559872  88.92339834 131.44490116\n",
      " 119.55720017 108.58119973 168.15760063 115.38620068  86.64499873\n",
      " 118.91320063  91.11109983 162.07850041 116.42140048 121.39419988\n",
      " 160.17099744 120.0044991  112.96679929 108.38009881 126.67679982\n",
      "  76.1815002  102.94169985 127.88760292 121.8839992   92.58590007\n",
      " 131.97760092 118.04600106 116.31399978 154.40780252 158.86460055\n",
      " 109.95039974 153.65149803 119.36980116 160.23430053 118.67370009\n",
      " 157.68929939 115.10439943 116.53090021 149.12249894 114.73520063\n",
      " 125.54689913 166.38799899 117.66390005 124.79849942 153.04250387\n",
      " 153.54530223 132.28350047 114.67770046 121.18150209 125.02940066\n",
      "  89.89390039 122.94939964 154.91350175 112.02820048 106.7575\n",
      " 161.56300097 118.44039933 165.68300015 133.96770054 115.18189998\n",
      " 152.93679868 168.82059981 115.20310001 114.06740122 157.66019963\n",
      "  84.93119944 127.07760031 127.83550039 128.82440011 124.38470092\n",
      " 123.83090091  90.66310045 153.23010009  97.13099979 137.11730001\n",
      "  89.31589894 107.68079997 115.11940043 112.82440078 123.97619925\n",
      "  91.37639859 125.42380093 162.53599819 120.08359848 164.9844015\n",
      " 126.83899824 112.38280038 127.68339929  95.05979934  90.93129955\n",
      " 103.21139898 120.76450015  82.98469959 126.38079985 160.28550456\n",
      " 117.30090094 118.3353     120.09369993 122.85299973 120.11960119\n",
      " 121.49089977 118.28780048 107.2681002  148.04439995 126.05749869\n",
      " 115.82450083  74.09150003 127.81340117 154.34340096 122.41290025\n",
      " 125.60760056  88.74990033 103.36309842 125.02930047 120.31170046\n",
      "  73.34310066 151.81649942 121.09570039 104.75990023  86.34779787\n",
      " 114.78839889 172.27309833 119.70650048 158.9678978  113.13260022\n",
      " 121.27059988 118.76710123  95.97169992 118.46500006 125.85680053\n",
      " 118.66879959  96.32930114 154.13540136 122.00340009 147.44760016\n",
      " 159.70500322 113.74160025 122.58929947 148.88969794 127.09370044\n",
      " 166.10100104 135.13660022 120.02039929 167.5942992  108.29349945\n",
      " 121.65369858 139.01180102 106.63379914]\n"
     ]
    }
   ],
   "source": [
    "print(test_data_prediction)"
   ]
  },
  {
   "cell_type": "code",
   "execution_count": 42,
   "id": "b5ac3bf3",
   "metadata": {},
   "outputs": [
    {
     "name": "stdout",
     "output_type": "stream",
     "text": [
      "R2 Error is: 0.9894246090909742\n"
     ]
    }
   ],
   "source": [
    "#R2 Error\n",
    "\n",
    "error_score= metrics.r2_score(y_test, test_data_prediction)\n",
    "print(\"R2 Error is:\", error_score)"
   ]
  },
  {
   "cell_type": "markdown",
   "id": "152308fd",
   "metadata": {},
   "source": [
    "Comparing the Actual Value and Predicted Values"
   ]
  },
  {
   "cell_type": "code",
   "execution_count": 43,
   "id": "e36508dd",
   "metadata": {},
   "outputs": [],
   "source": [
    "y_test= list(y_test)"
   ]
  },
  {
   "cell_type": "code",
   "execution_count": 48,
   "id": "3570e3ee",
   "metadata": {},
   "outputs": [
    {
     "data": {
      "image/png": "[encoded data removed]",
      "text/plain": [
       "<Figure size 432x288 with 1 Axes>"
      ]
     },
     "metadata": {
      "needs_background": "light"
     },
     "output_type": "display_data"
    }
   ],
   "source": [
    "plt.plot(y_test, color='blue', label= 'Actual Values')\n",
    "plt.plot(test_data_prediction, color= 'green', label='Predicted Values')\n",
    "plt.title(\"Actual Price vs Predicted price\")\n",
    "plt.xlabel(\"Number of Values\")\n",
    "plt.ylabel(\"GLD price\")\n",
    "plt.legend()\n",
    "plt.show()"
   ]
  },
  {
   "cell_type": "code",
   "execution_count": null,
   "id": "a2766dbe",
   "metadata": {},
   "outputs": [],
   "source": []
  }
 ],
 "metadata": {
  "kernelspec": {
   "display_name": "Python 3 (ipykernel)",
   "language": "python",
   "name": "python3"
  },
  "language_info": {
   "codemirror_mode": {
    "name": "ipython",
    "version": 3
   },
   "file_extension": ".py",
   "mimetype": "text/x-python",
   "name": "python",
   "nbconvert_exporter": "python",
   "pygments_lexer": "ipython3",
   "version": "3.9.7"
  }
 },
 "nbformat": 4,
 "nbformat_minor": 5
}
